{
 "cells": [
  {
   "cell_type": "code",
   "execution_count": null,
   "id": "31510a75",
   "metadata": {},
   "outputs": [],
   "source": []
  },
  {
   "cell_type": "markdown",
   "id": "9f7611f0",
   "metadata": {},
   "source": [
    "## We will be preparing a coding program for a job application that has the\n",
    "## following credentials:\n",
    "\n",
    "## Applicant MUST:\n",
    "        \n",
    "## 1. be a Cameroonian male citizen\n",
    "\n",
    "## 2. be at most 35 YEARS of age, and\n",
    "\n",
    "## 3. NOT BE more than 160 POUNDS in weight"
   ]
  },
  {
   "cell_type": "markdown",
   "id": "44186df5",
   "metadata": {},
   "source": [
    " "
   ]
  },
  {
   "cell_type": "code",
   "execution_count": 3,
   "id": "451b0526",
   "metadata": {},
   "outputs": [],
   "source": [
    "# Below is the coding script:"
   ]
  },
  {
   "cell_type": "markdown",
   "id": "dd3dd628",
   "metadata": {},
   "source": [
    " "
   ]
  },
  {
   "cell_type": "code",
   "execution_count": 2,
   "id": "657ae26a",
   "metadata": {},
   "outputs": [
    {
     "name": "stdout",
     "output_type": "stream",
     "text": [
      "Nationality: Cameroonian\n",
      "gender: male\n",
      "Enter your age in integer: 33\n",
      "Enter your weight in pounds: 152\n",
      "Proceed!\n",
      "Proceed further!\n",
      "You are one step closer!\n",
      "Prepare for an interview next month\n"
     ]
    }
   ],
   "source": [
    "a=input('Nationality: ')\n",
    "\n",
    "b=input('gender: ')\n",
    "\n",
    "c=int(input('Enter your age in integer: '))\n",
    "\n",
    "d=int(input('Enter your weight in pounds: '))\n",
    "\n",
    "if (a=='Cameroonian'):      \n",
    "    print('Proceed!')\n",
    "    if (b=='male'):\n",
    "        print('Proceed further!')\n",
    "        if (c<=35):\n",
    "            print('You are one step closer!')\n",
    "            if(d<=160):\n",
    "                print('Prepare for an interview next month')\n",
    "            else:\n",
    "                print('Not the right candidate!')\n",
    "        else:\n",
    "            print('Not the right candidate!')\n",
    "    else:\n",
    "        print('Not the right candidate!')\n",
    "else:\n",
    "    print('RESULT: Sorry, only Cameroonians can apply for this job!')"
   ]
  },
  {
   "cell_type": "code",
   "execution_count": null,
   "id": "1d2f8790",
   "metadata": {},
   "outputs": [],
   "source": []
  }
 ],
 "metadata": {
  "kernelspec": {
   "display_name": "Python 3 (ipykernel)",
   "language": "python",
   "name": "python3"
  },
  "language_info": {
   "codemirror_mode": {
    "name": "ipython",
    "version": 3
   },
   "file_extension": ".py",
   "mimetype": "text/x-python",
   "name": "python",
   "nbconvert_exporter": "python",
   "pygments_lexer": "ipython3",
   "version": "3.9.7"
  }
 },
 "nbformat": 4,
 "nbformat_minor": 5
}
